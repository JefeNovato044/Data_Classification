{
 "cells": [
  {
   "cell_type": "code",
   "execution_count": 1,
   "metadata": {},
   "outputs": [],
   "source": [
    "import pandas as pd\n",
    "import numpy as np\n",
    "from sklearn.cluster import KMeans\n",
    "import matplotlib.pyplot as plt\n",
    "import seaborn as sea"
   ]
  },
  {
   "cell_type": "code",
   "execution_count": 2,
   "metadata": {},
   "outputs": [],
   "source": [
    "def MinMaxDF(df):\n",
    "    cols = df.columns\n",
    "    \n",
    "    for col in cols:\n",
    "        currMin = list(df[col].sort_values())[0]\n",
    "        currMax = list(df[col].sort_values())[-1]\n",
    "        \n",
    "        MinMax = lambda x,currMin, currMax: (x-currMin)/(currMax-currMin)\n",
    "        \n",
    "        df[col] =df[col].apply(MinMax, args=(currMin, currMax))\n",
    "    return df"
   ]
  },
  {
   "cell_type": "markdown",
   "metadata": {},
   "source": [
    "# Reporte de clasificacion de datos de INEGI sobre Turismo\n",
    "- En este reporte se explica el uso de Kmeans para la clasificación de datos de turismo\n",
    "- Pretendemos clasificar los comportamientos de los meses dependiendo de las variables como son el gasto de cada mes, el metodo que mas se usa para viajar en cada mes, etc.\n",
    "- Para lograr el objetivo se tuvo que limpiar y transformar los datos antes de aplicarlos en el algortimo de K-Means\n",
    "\n",
    "\n",
    "- Jack Robles y Jorge Erosa"
   ]
  },
  {
   "cell_type": "markdown",
   "metadata": {},
   "source": [
    "## Importar Datos Inegi en formato CSV"
   ]
  },
  {
   "cell_type": "code",
   "execution_count": 3,
   "metadata": {},
   "outputs": [],
   "source": [
    "df1 = pd.read_csv(\"tr_eti_18_20.csv\")\n",
    "df2 = pd.read_csv(\"tr_evf_18_20.csv\")"
   ]
  },
  {
   "cell_type": "markdown",
   "metadata": {},
   "source": [
    "## Inspección de los contenidos de ambos datos"
   ]
  },
  {
   "cell_type": "code",
   "execution_count": 4,
   "metadata": {},
   "outputs": [
    {
     "data": {
      "text/html": [
       "<div>\n",
       "<style scoped>\n",
       "    .dataframe tbody tr th:only-of-type {\n",
       "        vertical-align: middle;\n",
       "    }\n",
       "\n",
       "    .dataframe tbody tr th {\n",
       "        vertical-align: top;\n",
       "    }\n",
       "\n",
       "    .dataframe thead th {\n",
       "        text-align: right;\n",
       "    }\n",
       "</style>\n",
       "<table border=\"1\" class=\"dataframe\">\n",
       "  <thead>\n",
       "    <tr style=\"text-align: right;\">\n",
       "      <th></th>\n",
       "      <th>PROD_EST</th>\n",
       "      <th>ANIO</th>\n",
       "      <th>MES</th>\n",
       "      <th>TIPO</th>\n",
       "      <th>TIPO_DE_TRANSPORTE</th>\n",
       "      <th>CATEGORIA</th>\n",
       "      <th>VARIABLE</th>\n",
       "      <th>VALOR</th>\n",
       "      <th>UNIDAD_DE_MEDIDA</th>\n",
       "      <th>ESTATUS</th>\n",
       "    </tr>\n",
       "  </thead>\n",
       "  <tbody>\n",
       "    <tr>\n",
       "      <th>0</th>\n",
       "      <td>Encuesta de Turismo de Internación (ETI)</td>\n",
       "      <td>2018</td>\n",
       "      <td>Agosto</td>\n",
       "      <td>Ingresos</td>\n",
       "      <td>Aéreo</td>\n",
       "      <td>Turistas de internación</td>\n",
       "      <td>Gasto total</td>\n",
       "      <td>1358750907</td>\n",
       "      <td>Dólares</td>\n",
       "      <td>Cifras revisadas</td>\n",
       "    </tr>\n",
       "    <tr>\n",
       "      <th>1</th>\n",
       "      <td>Encuesta de Turismo de Internación (ETI)</td>\n",
       "      <td>2018</td>\n",
       "      <td>Agosto</td>\n",
       "      <td>Ingresos</td>\n",
       "      <td>Terrestre</td>\n",
       "      <td>Turistas de internación</td>\n",
       "      <td>Gasto total</td>\n",
       "      <td>105686094</td>\n",
       "      <td>Dólares</td>\n",
       "      <td>Cifras revisadas</td>\n",
       "    </tr>\n",
       "  </tbody>\n",
       "</table>\n",
       "</div>"
      ],
      "text/plain": [
       "                                   PROD_EST  ANIO     MES      TIPO  \\\n",
       "0  Encuesta de Turismo de Internación (ETI)  2018  Agosto  Ingresos   \n",
       "1  Encuesta de Turismo de Internación (ETI)  2018  Agosto  Ingresos   \n",
       "\n",
       "  TIPO_DE_TRANSPORTE                CATEGORIA     VARIABLE       VALOR  \\\n",
       "0              Aéreo  Turistas de internación  Gasto total  1358750907   \n",
       "1          Terrestre  Turistas de internación  Gasto total   105686094   \n",
       "\n",
       "  UNIDAD_DE_MEDIDA           ESTATUS  \n",
       "0          Dólares  Cifras revisadas  \n",
       "1          Dólares  Cifras revisadas  "
      ]
     },
     "execution_count": 4,
     "metadata": {},
     "output_type": "execute_result"
    }
   ],
   "source": [
    "df1.head(2)"
   ]
  },
  {
   "cell_type": "code",
   "execution_count": 5,
   "metadata": {},
   "outputs": [
    {
     "data": {
      "text/html": [
       "<div>\n",
       "<style scoped>\n",
       "    .dataframe tbody tr th:only-of-type {\n",
       "        vertical-align: middle;\n",
       "    }\n",
       "\n",
       "    .dataframe tbody tr th {\n",
       "        vertical-align: top;\n",
       "    }\n",
       "\n",
       "    .dataframe thead th {\n",
       "        text-align: right;\n",
       "    }\n",
       "</style>\n",
       "<table border=\"1\" class=\"dataframe\">\n",
       "  <thead>\n",
       "    <tr style=\"text-align: right;\">\n",
       "      <th></th>\n",
       "      <th>PROD_EST</th>\n",
       "      <th>ANIO</th>\n",
       "      <th>MES</th>\n",
       "      <th>TIPO</th>\n",
       "      <th>TIPO_DE_TRANSPORTE</th>\n",
       "      <th>CATEGORIA</th>\n",
       "      <th>VARIABLE</th>\n",
       "      <th>VALOR</th>\n",
       "      <th>UNIDAD_DE_MEDIDA</th>\n",
       "      <th>ESTATUS</th>\n",
       "    </tr>\n",
       "  </thead>\n",
       "  <tbody>\n",
       "    <tr>\n",
       "      <th>0</th>\n",
       "      <td>Encuesta de Viajeros Fronterizos (EVF)</td>\n",
       "      <td>2018</td>\n",
       "      <td>Agosto</td>\n",
       "      <td>Ingresos</td>\n",
       "      <td>Peatones</td>\n",
       "      <td>Turistas fronterizos</td>\n",
       "      <td>Gasto total</td>\n",
       "      <td>14093185</td>\n",
       "      <td>Dólares</td>\n",
       "      <td>Cifras revisadas</td>\n",
       "    </tr>\n",
       "    <tr>\n",
       "      <th>1</th>\n",
       "      <td>Encuesta de Viajeros Fronterizos (EVF)</td>\n",
       "      <td>2018</td>\n",
       "      <td>Agosto</td>\n",
       "      <td>Ingresos</td>\n",
       "      <td>En automóviles</td>\n",
       "      <td>Turistas fronterizos</td>\n",
       "      <td>Gasto total</td>\n",
       "      <td>90268996</td>\n",
       "      <td>Dólares</td>\n",
       "      <td>Cifras revisadas</td>\n",
       "    </tr>\n",
       "  </tbody>\n",
       "</table>\n",
       "</div>"
      ],
      "text/plain": [
       "                                 PROD_EST  ANIO     MES      TIPO  \\\n",
       "0  Encuesta de Viajeros Fronterizos (EVF)  2018  Agosto  Ingresos   \n",
       "1  Encuesta de Viajeros Fronterizos (EVF)  2018  Agosto  Ingresos   \n",
       "\n",
       "  TIPO_DE_TRANSPORTE             CATEGORIA     VARIABLE     VALOR  \\\n",
       "0           Peatones  Turistas fronterizos  Gasto total  14093185   \n",
       "1     En automóviles  Turistas fronterizos  Gasto total  90268996   \n",
       "\n",
       "  UNIDAD_DE_MEDIDA           ESTATUS  \n",
       "0          Dólares  Cifras revisadas  \n",
       "1          Dólares  Cifras revisadas  "
      ]
     },
     "execution_count": 5,
     "metadata": {},
     "output_type": "execute_result"
    }
   ],
   "source": [
    "df2.head(2)"
   ]
  },
  {
   "cell_type": "markdown",
   "metadata": {},
   "source": [
    "## Limpieza de Datos"
   ]
  },
  {
   "cell_type": "markdown",
   "metadata": {},
   "source": [
    "#### Eliminando datos que no son de interés para el análisis"
   ]
  },
  {
   "cell_type": "code",
   "execution_count": 6,
   "metadata": {},
   "outputs": [],
   "source": [
    "df1 = df1.drop(columns = [\"ESTATUS\",\"PROD_EST\"])\n",
    "df2 = df2.drop(columns = [\"ESTATUS\",\"PROD_EST\"])"
   ]
  },
  {
   "cell_type": "code",
   "execution_count": 7,
   "metadata": {},
   "outputs": [
    {
     "data": {
      "text/html": [
       "<div>\n",
       "<style scoped>\n",
       "    .dataframe tbody tr th:only-of-type {\n",
       "        vertical-align: middle;\n",
       "    }\n",
       "\n",
       "    .dataframe tbody tr th {\n",
       "        vertical-align: top;\n",
       "    }\n",
       "\n",
       "    .dataframe thead th {\n",
       "        text-align: right;\n",
       "    }\n",
       "</style>\n",
       "<table border=\"1\" class=\"dataframe\">\n",
       "  <thead>\n",
       "    <tr style=\"text-align: right;\">\n",
       "      <th></th>\n",
       "      <th>ANIO</th>\n",
       "      <th>MES</th>\n",
       "      <th>TIPO</th>\n",
       "      <th>TIPO_DE_TRANSPORTE</th>\n",
       "      <th>CATEGORIA</th>\n",
       "      <th>VARIABLE</th>\n",
       "      <th>VALOR</th>\n",
       "      <th>UNIDAD_DE_MEDIDA</th>\n",
       "    </tr>\n",
       "  </thead>\n",
       "  <tbody>\n",
       "    <tr>\n",
       "      <th>0</th>\n",
       "      <td>2018</td>\n",
       "      <td>Agosto</td>\n",
       "      <td>Ingresos</td>\n",
       "      <td>Aéreo</td>\n",
       "      <td>Turistas de internación</td>\n",
       "      <td>Gasto total</td>\n",
       "      <td>1358750907</td>\n",
       "      <td>Dólares</td>\n",
       "    </tr>\n",
       "    <tr>\n",
       "      <th>1</th>\n",
       "      <td>2018</td>\n",
       "      <td>Agosto</td>\n",
       "      <td>Ingresos</td>\n",
       "      <td>Terrestre</td>\n",
       "      <td>Turistas de internación</td>\n",
       "      <td>Gasto total</td>\n",
       "      <td>105686094</td>\n",
       "      <td>Dólares</td>\n",
       "    </tr>\n",
       "  </tbody>\n",
       "</table>\n",
       "</div>"
      ],
      "text/plain": [
       "   ANIO     MES      TIPO TIPO_DE_TRANSPORTE                CATEGORIA  \\\n",
       "0  2018  Agosto  Ingresos              Aéreo  Turistas de internación   \n",
       "1  2018  Agosto  Ingresos          Terrestre  Turistas de internación   \n",
       "\n",
       "      VARIABLE       VALOR UNIDAD_DE_MEDIDA  \n",
       "0  Gasto total  1358750907          Dólares  \n",
       "1  Gasto total   105686094          Dólares  "
      ]
     },
     "execution_count": 7,
     "metadata": {},
     "output_type": "execute_result"
    }
   ],
   "source": [
    "df1.head(2)"
   ]
  },
  {
   "cell_type": "markdown",
   "metadata": {},
   "source": [
    "#### Separando datos de ingresos y egresos\n",
    "- Esto sirve para poder tener un mayor control en nuestro analisis y clasicicación de los datos obtenidos\n",
    "- Se separó los datos en Ingreso y egresos, Gasto monetario y numero de visitantes"
   ]
  },
  {
   "cell_type": "code",
   "execution_count": 8,
   "metadata": {},
   "outputs": [],
   "source": [
    "df1In = df1.loc[df1.TIPO == \"Ingresos\"]\n",
    "df1In = df1In.loc[df1In.VARIABLE == \"Gasto total\"]\n",
    "df1En = df1.loc[df1.TIPO == \"Egresos\"]\n",
    "df1En = df1En.loc[df1En.VARIABLE == \"Gasto total\"]\n",
    "\n",
    "\n",
    "df2In = df2.loc[df2.TIPO == \"Egresos\"]\n",
    "df2In = df2In.loc[df2In.VARIABLE == \"Gasto total\"]\n",
    "df2En = df2.loc[df2.TIPO == \"Egresos\"]\n",
    "df2En = df2En.loc[df2En.VARIABLE == \"Gasto total\"]"
   ]
  },
  {
   "cell_type": "markdown",
   "metadata": {},
   "source": [
    "#### Eliminando variables \n",
    "- Como nuestro objectivo es clasificar los meses en bases a las tendendencias de otras variables, el año no es de interés para el análisis.\n",
    "\n",
    "- La unidad de medida solo es útil para dar contexto a los humanos, sin emabrgo para la clasificacion en base a clusters usando el algoritmo de K-Means, el tipo de unidad no es de utilidad.\n",
    "\n",
    "- Ya se sabe que todos los valores de \"VALOR\" son de gasto total, por lo que la columna \"VARIABLE\" queda sin utilidad"
   ]
  },
  {
   "cell_type": "code",
   "execution_count": 9,
   "metadata": {},
   "outputs": [],
   "source": [
    "df1In=df1In.drop(columns = [\"ANIO\",\"TIPO\",\"UNIDAD_DE_MEDIDA\",\"VARIABLE\"])\n",
    "df1En=df1En.drop(columns = [\"ANIO\",\"TIPO\",\"UNIDAD_DE_MEDIDA\",\"VARIABLE\"])\n",
    "    \n",
    "df2In=df2In.drop(columns = [\"ANIO\",\"TIPO\",\"UNIDAD_DE_MEDIDA\",\"VARIABLE\"])\n",
    "df2En=df2En.drop(columns = [\"ANIO\",\"TIPO\",\"UNIDAD_DE_MEDIDA\",\"VARIABLE\"])"
   ]
  },
  {
   "cell_type": "markdown",
   "metadata": {},
   "source": [
    "## Uniendo DataSets\n",
    "- Se crearon 2 datasets \n",
    "- Uno conteninedo ingresos totales de los turistas\n",
    "- El segundo conteniendo ingresos totales de Turistas por mes"
   ]
  },
  {
   "cell_type": "code",
   "execution_count": 10,
   "metadata": {},
   "outputs": [],
   "source": [
    "dfIn = pd.concat([df1In, df2In],ignore_index=True,sort=False)\n",
    "dfEn = pd.concat([df1En, df2En],ignore_index=True,sort=False)"
   ]
  },
  {
   "cell_type": "markdown",
   "metadata": {},
   "source": [
    "#### Previsualizar DataFrame"
   ]
  },
  {
   "cell_type": "code",
   "execution_count": 11,
   "metadata": {},
   "outputs": [
    {
     "data": {
      "text/html": [
       "<div>\n",
       "<style scoped>\n",
       "    .dataframe tbody tr th:only-of-type {\n",
       "        vertical-align: middle;\n",
       "    }\n",
       "\n",
       "    .dataframe tbody tr th {\n",
       "        vertical-align: top;\n",
       "    }\n",
       "\n",
       "    .dataframe thead th {\n",
       "        text-align: right;\n",
       "    }\n",
       "</style>\n",
       "<table border=\"1\" class=\"dataframe\">\n",
       "  <thead>\n",
       "    <tr style=\"text-align: right;\">\n",
       "      <th></th>\n",
       "      <th>MES</th>\n",
       "      <th>TIPO_DE_TRANSPORTE</th>\n",
       "      <th>CATEGORIA</th>\n",
       "      <th>VALOR</th>\n",
       "    </tr>\n",
       "  </thead>\n",
       "  <tbody>\n",
       "    <tr>\n",
       "      <th>0</th>\n",
       "      <td>Agosto</td>\n",
       "      <td>Aéreo</td>\n",
       "      <td>Turistas de internación</td>\n",
       "      <td>1358750907</td>\n",
       "    </tr>\n",
       "    <tr>\n",
       "      <th>1</th>\n",
       "      <td>Agosto</td>\n",
       "      <td>Terrestre</td>\n",
       "      <td>Turistas de internación</td>\n",
       "      <td>105686094</td>\n",
       "    </tr>\n",
       "    <tr>\n",
       "      <th>2</th>\n",
       "      <td>Agosto</td>\n",
       "      <td>Cruceros</td>\n",
       "      <td>Excursionistas en cruceros</td>\n",
       "      <td>35649178</td>\n",
       "    </tr>\n",
       "    <tr>\n",
       "      <th>3</th>\n",
       "      <td>Septiembre</td>\n",
       "      <td>Aéreo</td>\n",
       "      <td>Turistas de internación</td>\n",
       "      <td>1080454557</td>\n",
       "    </tr>\n",
       "    <tr>\n",
       "      <th>4</th>\n",
       "      <td>Septiembre</td>\n",
       "      <td>Terrestre</td>\n",
       "      <td>Turistas de internación</td>\n",
       "      <td>80236790</td>\n",
       "    </tr>\n",
       "    <tr>\n",
       "      <th>...</th>\n",
       "      <td>...</td>\n",
       "      <td>...</td>\n",
       "      <td>...</td>\n",
       "      <td>...</td>\n",
       "    </tr>\n",
       "    <tr>\n",
       "      <th>177</th>\n",
       "      <td>Agosto</td>\n",
       "      <td>En automóviles</td>\n",
       "      <td>Excursionistas fronterizos</td>\n",
       "      <td>59650176</td>\n",
       "    </tr>\n",
       "    <tr>\n",
       "      <th>178</th>\n",
       "      <td>Septiembre</td>\n",
       "      <td>Peatones</td>\n",
       "      <td>Turistas fronterizos</td>\n",
       "      <td>3023018</td>\n",
       "    </tr>\n",
       "    <tr>\n",
       "      <th>179</th>\n",
       "      <td>Septiembre</td>\n",
       "      <td>En automóviles</td>\n",
       "      <td>Turistas fronterizos</td>\n",
       "      <td>9436896</td>\n",
       "    </tr>\n",
       "    <tr>\n",
       "      <th>180</th>\n",
       "      <td>Septiembre</td>\n",
       "      <td>Peatones</td>\n",
       "      <td>Excursionistas fronterizos</td>\n",
       "      <td>16049420</td>\n",
       "    </tr>\n",
       "    <tr>\n",
       "      <th>181</th>\n",
       "      <td>Septiembre</td>\n",
       "      <td>En automóviles</td>\n",
       "      <td>Excursionistas fronterizos</td>\n",
       "      <td>60123988</td>\n",
       "    </tr>\n",
       "  </tbody>\n",
       "</table>\n",
       "<p>182 rows × 4 columns</p>\n",
       "</div>"
      ],
      "text/plain": [
       "            MES TIPO_DE_TRANSPORTE                   CATEGORIA       VALOR\n",
       "0        Agosto              Aéreo     Turistas de internación  1358750907\n",
       "1        Agosto          Terrestre     Turistas de internación   105686094\n",
       "2        Agosto           Cruceros  Excursionistas en cruceros    35649178\n",
       "3    Septiembre              Aéreo     Turistas de internación  1080454557\n",
       "4    Septiembre          Terrestre     Turistas de internación    80236790\n",
       "..          ...                ...                         ...         ...\n",
       "177      Agosto     En automóviles  Excursionistas fronterizos    59650176\n",
       "178  Septiembre           Peatones        Turistas fronterizos     3023018\n",
       "179  Septiembre     En automóviles        Turistas fronterizos     9436896\n",
       "180  Septiembre           Peatones  Excursionistas fronterizos    16049420\n",
       "181  Septiembre     En automóviles  Excursionistas fronterizos    60123988\n",
       "\n",
       "[182 rows x 4 columns]"
      ]
     },
     "execution_count": 11,
     "metadata": {},
     "output_type": "execute_result"
    }
   ],
   "source": [
    "dfIn"
   ]
  },
  {
   "cell_type": "markdown",
   "metadata": {},
   "source": [
    "#### Obtener valores únicos de los valores de las columnas no númericas\n",
    "\n",
    "- La razón de esta acción, es que para usar K-Means, los valores de las columnas deben ser numericas\n",
    "- Por lo que se crea una ID única a cada valor único de esas columnas"
   ]
  },
  {
   "cell_type": "code",
   "execution_count": 12,
   "metadata": {},
   "outputs": [
    {
     "name": "stdout",
     "output_type": "stream",
     "text": [
      "['Enero', 'Febrero', 'Marzo', 'Abril', 'Mayo', 'Junio', 'Julio', 'Agosto', 'Septiembre', 'Octubre', 'Noviembre', 'Diciembre']\n",
      "['Aéreo', 'Terrestre', 'Cruceros', 'Peatones', 'En automóviles']\n",
      "['Turistas de internación', 'Excursionistas en cruceros', 'Turistas fronterizos', 'Excursionistas fronterizos']\n"
     ]
    }
   ],
   "source": [
    "mesesI = ['Enero','Febrero','Marzo','Abril','Mayo','Junio','Julio','Agosto','Septiembre','Octubre','Noviembre','Diciembre']\n",
    "transporteI = list(dfIn.TIPO_DE_TRANSPORTE.unique())\n",
    "catI = list(dfIn.CATEGORIA.unique())\n",
    "\n",
    "print(mesesI)\n",
    "print(transporteI)\n",
    "print(catI)"
   ]
  },
  {
   "cell_type": "code",
   "execution_count": 13,
   "metadata": {},
   "outputs": [],
   "source": [
    "dfIn.MES = dfIn.MES.apply(lambda x: mesesI.index(x)+1)\n",
    "dfIn.TIPO_DE_TRANSPORTE = dfIn.TIPO_DE_TRANSPORTE.apply(lambda x: transporteI.index(x)+1)\n",
    "dfIn.CATEGORIA = dfIn.CATEGORIA.apply(lambda x: catI.index(x)+1)"
   ]
  },
  {
   "cell_type": "markdown",
   "metadata": {},
   "source": [
    "#### DataFrame transformado"
   ]
  },
  {
   "cell_type": "code",
   "execution_count": 14,
   "metadata": {},
   "outputs": [
    {
     "data": {
      "text/html": [
       "<div>\n",
       "<style scoped>\n",
       "    .dataframe tbody tr th:only-of-type {\n",
       "        vertical-align: middle;\n",
       "    }\n",
       "\n",
       "    .dataframe tbody tr th {\n",
       "        vertical-align: top;\n",
       "    }\n",
       "\n",
       "    .dataframe thead th {\n",
       "        text-align: right;\n",
       "    }\n",
       "</style>\n",
       "<table border=\"1\" class=\"dataframe\">\n",
       "  <thead>\n",
       "    <tr style=\"text-align: right;\">\n",
       "      <th></th>\n",
       "      <th>MES</th>\n",
       "      <th>TIPO_DE_TRANSPORTE</th>\n",
       "      <th>CATEGORIA</th>\n",
       "      <th>VALOR</th>\n",
       "    </tr>\n",
       "  </thead>\n",
       "  <tbody>\n",
       "    <tr>\n",
       "      <th>0</th>\n",
       "      <td>8</td>\n",
       "      <td>1</td>\n",
       "      <td>1</td>\n",
       "      <td>1358750907</td>\n",
       "    </tr>\n",
       "    <tr>\n",
       "      <th>1</th>\n",
       "      <td>8</td>\n",
       "      <td>2</td>\n",
       "      <td>1</td>\n",
       "      <td>105686094</td>\n",
       "    </tr>\n",
       "    <tr>\n",
       "      <th>2</th>\n",
       "      <td>8</td>\n",
       "      <td>3</td>\n",
       "      <td>2</td>\n",
       "      <td>35649178</td>\n",
       "    </tr>\n",
       "    <tr>\n",
       "      <th>3</th>\n",
       "      <td>9</td>\n",
       "      <td>1</td>\n",
       "      <td>1</td>\n",
       "      <td>1080454557</td>\n",
       "    </tr>\n",
       "    <tr>\n",
       "      <th>4</th>\n",
       "      <td>9</td>\n",
       "      <td>2</td>\n",
       "      <td>1</td>\n",
       "      <td>80236790</td>\n",
       "    </tr>\n",
       "    <tr>\n",
       "      <th>...</th>\n",
       "      <td>...</td>\n",
       "      <td>...</td>\n",
       "      <td>...</td>\n",
       "      <td>...</td>\n",
       "    </tr>\n",
       "    <tr>\n",
       "      <th>177</th>\n",
       "      <td>8</td>\n",
       "      <td>5</td>\n",
       "      <td>4</td>\n",
       "      <td>59650176</td>\n",
       "    </tr>\n",
       "    <tr>\n",
       "      <th>178</th>\n",
       "      <td>9</td>\n",
       "      <td>4</td>\n",
       "      <td>3</td>\n",
       "      <td>3023018</td>\n",
       "    </tr>\n",
       "    <tr>\n",
       "      <th>179</th>\n",
       "      <td>9</td>\n",
       "      <td>5</td>\n",
       "      <td>3</td>\n",
       "      <td>9436896</td>\n",
       "    </tr>\n",
       "    <tr>\n",
       "      <th>180</th>\n",
       "      <td>9</td>\n",
       "      <td>4</td>\n",
       "      <td>4</td>\n",
       "      <td>16049420</td>\n",
       "    </tr>\n",
       "    <tr>\n",
       "      <th>181</th>\n",
       "      <td>9</td>\n",
       "      <td>5</td>\n",
       "      <td>4</td>\n",
       "      <td>60123988</td>\n",
       "    </tr>\n",
       "  </tbody>\n",
       "</table>\n",
       "<p>182 rows × 4 columns</p>\n",
       "</div>"
      ],
      "text/plain": [
       "     MES  TIPO_DE_TRANSPORTE  CATEGORIA       VALOR\n",
       "0      8                   1          1  1358750907\n",
       "1      8                   2          1   105686094\n",
       "2      8                   3          2    35649178\n",
       "3      9                   1          1  1080454557\n",
       "4      9                   2          1    80236790\n",
       "..   ...                 ...        ...         ...\n",
       "177    8                   5          4    59650176\n",
       "178    9                   4          3     3023018\n",
       "179    9                   5          3     9436896\n",
       "180    9                   4          4    16049420\n",
       "181    9                   5          4    60123988\n",
       "\n",
       "[182 rows x 4 columns]"
      ]
     },
     "execution_count": 14,
     "metadata": {},
     "output_type": "execute_result"
    }
   ],
   "source": [
    "dfIn"
   ]
  },
  {
   "cell_type": "code",
   "execution_count": 15,
   "metadata": {},
   "outputs": [],
   "source": [
    "dfInMM = MinMaxDF(dfIn)"
   ]
  },
  {
   "cell_type": "code",
   "execution_count": 16,
   "metadata": {},
   "outputs": [
    {
     "data": {
      "text/html": [
       "<div>\n",
       "<style scoped>\n",
       "    .dataframe tbody tr th:only-of-type {\n",
       "        vertical-align: middle;\n",
       "    }\n",
       "\n",
       "    .dataframe tbody tr th {\n",
       "        vertical-align: top;\n",
       "    }\n",
       "\n",
       "    .dataframe thead th {\n",
       "        text-align: right;\n",
       "    }\n",
       "</style>\n",
       "<table border=\"1\" class=\"dataframe\">\n",
       "  <thead>\n",
       "    <tr style=\"text-align: right;\">\n",
       "      <th></th>\n",
       "      <th>MES</th>\n",
       "      <th>TIPO_DE_TRANSPORTE</th>\n",
       "      <th>CATEGORIA</th>\n",
       "      <th>VALOR</th>\n",
       "    </tr>\n",
       "  </thead>\n",
       "  <tbody>\n",
       "    <tr>\n",
       "      <th>0</th>\n",
       "      <td>0.636364</td>\n",
       "      <td>0.00</td>\n",
       "      <td>0.000000</td>\n",
       "      <td>0.650838</td>\n",
       "    </tr>\n",
       "    <tr>\n",
       "      <th>1</th>\n",
       "      <td>0.636364</td>\n",
       "      <td>0.25</td>\n",
       "      <td>0.000000</td>\n",
       "      <td>0.050623</td>\n",
       "    </tr>\n",
       "    <tr>\n",
       "      <th>2</th>\n",
       "      <td>0.636364</td>\n",
       "      <td>0.50</td>\n",
       "      <td>0.333333</td>\n",
       "      <td>0.017076</td>\n",
       "    </tr>\n",
       "    <tr>\n",
       "      <th>3</th>\n",
       "      <td>0.727273</td>\n",
       "      <td>0.00</td>\n",
       "      <td>0.000000</td>\n",
       "      <td>0.517535</td>\n",
       "    </tr>\n",
       "    <tr>\n",
       "      <th>4</th>\n",
       "      <td>0.727273</td>\n",
       "      <td>0.25</td>\n",
       "      <td>0.000000</td>\n",
       "      <td>0.038433</td>\n",
       "    </tr>\n",
       "    <tr>\n",
       "      <th>...</th>\n",
       "      <td>...</td>\n",
       "      <td>...</td>\n",
       "      <td>...</td>\n",
       "      <td>...</td>\n",
       "    </tr>\n",
       "    <tr>\n",
       "      <th>177</th>\n",
       "      <td>0.636364</td>\n",
       "      <td>1.00</td>\n",
       "      <td>1.000000</td>\n",
       "      <td>0.028572</td>\n",
       "    </tr>\n",
       "    <tr>\n",
       "      <th>178</th>\n",
       "      <td>0.727273</td>\n",
       "      <td>0.75</td>\n",
       "      <td>0.666667</td>\n",
       "      <td>0.001448</td>\n",
       "    </tr>\n",
       "    <tr>\n",
       "      <th>179</th>\n",
       "      <td>0.727273</td>\n",
       "      <td>1.00</td>\n",
       "      <td>0.666667</td>\n",
       "      <td>0.004520</td>\n",
       "    </tr>\n",
       "    <tr>\n",
       "      <th>180</th>\n",
       "      <td>0.727273</td>\n",
       "      <td>0.75</td>\n",
       "      <td>1.000000</td>\n",
       "      <td>0.007688</td>\n",
       "    </tr>\n",
       "    <tr>\n",
       "      <th>181</th>\n",
       "      <td>0.727273</td>\n",
       "      <td>1.00</td>\n",
       "      <td>1.000000</td>\n",
       "      <td>0.028799</td>\n",
       "    </tr>\n",
       "  </tbody>\n",
       "</table>\n",
       "<p>182 rows × 4 columns</p>\n",
       "</div>"
      ],
      "text/plain": [
       "          MES  TIPO_DE_TRANSPORTE  CATEGORIA     VALOR\n",
       "0    0.636364                0.00   0.000000  0.650838\n",
       "1    0.636364                0.25   0.000000  0.050623\n",
       "2    0.636364                0.50   0.333333  0.017076\n",
       "3    0.727273                0.00   0.000000  0.517535\n",
       "4    0.727273                0.25   0.000000  0.038433\n",
       "..        ...                 ...        ...       ...\n",
       "177  0.636364                1.00   1.000000  0.028572\n",
       "178  0.727273                0.75   0.666667  0.001448\n",
       "179  0.727273                1.00   0.666667  0.004520\n",
       "180  0.727273                0.75   1.000000  0.007688\n",
       "181  0.727273                1.00   1.000000  0.028799\n",
       "\n",
       "[182 rows x 4 columns]"
      ]
     },
     "execution_count": 16,
     "metadata": {},
     "output_type": "execute_result"
    }
   ],
   "source": [
    "dfInMM"
   ]
  },
  {
   "cell_type": "markdown",
   "metadata": {},
   "source": [
    "#### Calculado los centroides usando una función de scikit learn de kmeans"
   ]
  },
  {
   "cell_type": "code",
   "execution_count": 17,
   "metadata": {},
   "outputs": [
    {
     "name": "stdout",
     "output_type": "stream",
     "text": [
      "182\n"
     ]
    },
    {
     "data": {
      "text/plain": [
       "array([3, 1, 1, 3, 1, 1, 3, 1, 1, 3, 1, 1, 3, 1, 1, 3, 1, 1, 3, 1, 1, 3,\n",
       "       1, 1, 3, 1, 1, 3, 1, 1, 3, 1, 1, 3, 1, 1, 3, 1, 1, 3, 1, 1, 3, 1,\n",
       "       1, 3, 1, 1, 3, 1, 1, 3, 1, 1, 3, 1, 1, 3, 1, 1, 1, 1, 1, 1, 1, 1,\n",
       "       1, 1, 1, 1, 1, 1, 1, 1, 1, 1, 1, 1, 0, 0, 0, 0, 0, 0, 0, 0, 0, 0,\n",
       "       0, 0, 0, 0, 0, 0, 0, 0, 0, 0, 2, 2, 2, 2, 2, 2, 2, 2, 2, 2, 2, 2,\n",
       "       2, 2, 2, 2, 2, 2, 2, 2, 2, 2, 2, 2, 0, 0, 0, 0, 0, 0, 0, 0, 0, 0,\n",
       "       0, 0, 0, 0, 0, 0, 0, 0, 0, 0, 0, 0, 0, 0, 2, 2, 2, 2, 2, 2, 2, 2,\n",
       "       2, 2, 2, 2, 2, 2, 2, 2, 2, 2, 2, 2, 2, 2, 2, 2, 0, 0, 0, 0, 0, 0,\n",
       "       0, 0, 0, 0, 0, 0], dtype=int32)"
      ]
     },
     "execution_count": 17,
     "metadata": {},
     "output_type": "execute_result"
    }
   ],
   "source": [
    "#Kmeans\n",
    "features = list(dfInMM.columns)\n",
    "data = dfIn[features]\n",
    "\n",
    "\n",
    "KM = KMeans(n_clusters = 4,precompute_distances=\"auto\")\n",
    "\n",
    "y = KM.fit_predict(dfInMM)\n",
    "print(len(y)) #NUMERO DE OBSERVACIONES\n",
    "y#Clusters "
   ]
  },
  {
   "cell_type": "code",
   "execution_count": 18,
   "metadata": {},
   "outputs": [],
   "source": [
    "dfIn[\"Cluster\"] = y"
   ]
  },
  {
   "cell_type": "markdown",
   "metadata": {},
   "source": [
    "# El DataSet Transformado\n",
    "- La variable cluster indica a que cluster esa observación pertenece.\n",
    "- En total se formaron 3 centroides y por lo tanto 3 clusters diferents de observaciones"
   ]
  },
  {
   "cell_type": "code",
   "execution_count": 19,
   "metadata": {},
   "outputs": [
    {
     "data": {
      "text/html": [
       "<div>\n",
       "<style scoped>\n",
       "    .dataframe tbody tr th:only-of-type {\n",
       "        vertical-align: middle;\n",
       "    }\n",
       "\n",
       "    .dataframe tbody tr th {\n",
       "        vertical-align: top;\n",
       "    }\n",
       "\n",
       "    .dataframe thead th {\n",
       "        text-align: right;\n",
       "    }\n",
       "</style>\n",
       "<table border=\"1\" class=\"dataframe\">\n",
       "  <thead>\n",
       "    <tr style=\"text-align: right;\">\n",
       "      <th></th>\n",
       "      <th>MES</th>\n",
       "      <th>TIPO_DE_TRANSPORTE</th>\n",
       "      <th>CATEGORIA</th>\n",
       "      <th>VALOR</th>\n",
       "      <th>Cluster</th>\n",
       "    </tr>\n",
       "  </thead>\n",
       "  <tbody>\n",
       "    <tr>\n",
       "      <th>0</th>\n",
       "      <td>0.636364</td>\n",
       "      <td>0.00</td>\n",
       "      <td>0.000000</td>\n",
       "      <td>0.650838</td>\n",
       "      <td>3</td>\n",
       "    </tr>\n",
       "    <tr>\n",
       "      <th>1</th>\n",
       "      <td>0.636364</td>\n",
       "      <td>0.25</td>\n",
       "      <td>0.000000</td>\n",
       "      <td>0.050623</td>\n",
       "      <td>1</td>\n",
       "    </tr>\n",
       "    <tr>\n",
       "      <th>2</th>\n",
       "      <td>0.636364</td>\n",
       "      <td>0.50</td>\n",
       "      <td>0.333333</td>\n",
       "      <td>0.017076</td>\n",
       "      <td>1</td>\n",
       "    </tr>\n",
       "    <tr>\n",
       "      <th>3</th>\n",
       "      <td>0.727273</td>\n",
       "      <td>0.00</td>\n",
       "      <td>0.000000</td>\n",
       "      <td>0.517535</td>\n",
       "      <td>3</td>\n",
       "    </tr>\n",
       "    <tr>\n",
       "      <th>4</th>\n",
       "      <td>0.727273</td>\n",
       "      <td>0.25</td>\n",
       "      <td>0.000000</td>\n",
       "      <td>0.038433</td>\n",
       "      <td>1</td>\n",
       "    </tr>\n",
       "    <tr>\n",
       "      <th>5</th>\n",
       "      <td>0.727273</td>\n",
       "      <td>0.50</td>\n",
       "      <td>0.333333</td>\n",
       "      <td>0.014889</td>\n",
       "      <td>1</td>\n",
       "    </tr>\n",
       "    <tr>\n",
       "      <th>6</th>\n",
       "      <td>0.818182</td>\n",
       "      <td>0.00</td>\n",
       "      <td>0.000000</td>\n",
       "      <td>0.604086</td>\n",
       "      <td>3</td>\n",
       "    </tr>\n",
       "    <tr>\n",
       "      <th>7</th>\n",
       "      <td>0.818182</td>\n",
       "      <td>0.25</td>\n",
       "      <td>0.000000</td>\n",
       "      <td>0.035503</td>\n",
       "      <td>1</td>\n",
       "    </tr>\n",
       "    <tr>\n",
       "      <th>8</th>\n",
       "      <td>0.818182</td>\n",
       "      <td>0.50</td>\n",
       "      <td>0.333333</td>\n",
       "      <td>0.020648</td>\n",
       "      <td>1</td>\n",
       "    </tr>\n",
       "    <tr>\n",
       "      <th>9</th>\n",
       "      <td>0.909091</td>\n",
       "      <td>0.00</td>\n",
       "      <td>0.000000</td>\n",
       "      <td>0.686940</td>\n",
       "      <td>3</td>\n",
       "    </tr>\n",
       "    <tr>\n",
       "      <th>10</th>\n",
       "      <td>0.909091</td>\n",
       "      <td>0.25</td>\n",
       "      <td>0.000000</td>\n",
       "      <td>0.046863</td>\n",
       "      <td>1</td>\n",
       "    </tr>\n",
       "    <tr>\n",
       "      <th>11</th>\n",
       "      <td>0.909091</td>\n",
       "      <td>0.50</td>\n",
       "      <td>0.333333</td>\n",
       "      <td>0.023682</td>\n",
       "      <td>1</td>\n",
       "    </tr>\n",
       "    <tr>\n",
       "      <th>12</th>\n",
       "      <td>1.000000</td>\n",
       "      <td>0.00</td>\n",
       "      <td>0.000000</td>\n",
       "      <td>0.950591</td>\n",
       "      <td>3</td>\n",
       "    </tr>\n",
       "    <tr>\n",
       "      <th>13</th>\n",
       "      <td>1.000000</td>\n",
       "      <td>0.25</td>\n",
       "      <td>0.000000</td>\n",
       "      <td>0.079029</td>\n",
       "      <td>1</td>\n",
       "    </tr>\n",
       "    <tr>\n",
       "      <th>14</th>\n",
       "      <td>1.000000</td>\n",
       "      <td>0.50</td>\n",
       "      <td>0.333333</td>\n",
       "      <td>0.029306</td>\n",
       "      <td>1</td>\n",
       "    </tr>\n",
       "    <tr>\n",
       "      <th>15</th>\n",
       "      <td>0.000000</td>\n",
       "      <td>0.00</td>\n",
       "      <td>0.000000</td>\n",
       "      <td>0.900031</td>\n",
       "      <td>3</td>\n",
       "    </tr>\n",
       "    <tr>\n",
       "      <th>16</th>\n",
       "      <td>0.000000</td>\n",
       "      <td>0.25</td>\n",
       "      <td>0.000000</td>\n",
       "      <td>0.053433</td>\n",
       "      <td>1</td>\n",
       "    </tr>\n",
       "    <tr>\n",
       "      <th>17</th>\n",
       "      <td>0.000000</td>\n",
       "      <td>0.50</td>\n",
       "      <td>0.333333</td>\n",
       "      <td>0.031844</td>\n",
       "      <td>1</td>\n",
       "    </tr>\n",
       "    <tr>\n",
       "      <th>18</th>\n",
       "      <td>0.090909</td>\n",
       "      <td>0.00</td>\n",
       "      <td>0.000000</td>\n",
       "      <td>0.896299</td>\n",
       "      <td>3</td>\n",
       "    </tr>\n",
       "    <tr>\n",
       "      <th>19</th>\n",
       "      <td>0.090909</td>\n",
       "      <td>0.25</td>\n",
       "      <td>0.000000</td>\n",
       "      <td>0.044532</td>\n",
       "      <td>1</td>\n",
       "    </tr>\n",
       "    <tr>\n",
       "      <th>20</th>\n",
       "      <td>0.090909</td>\n",
       "      <td>0.50</td>\n",
       "      <td>0.333333</td>\n",
       "      <td>0.026437</td>\n",
       "      <td>1</td>\n",
       "    </tr>\n",
       "    <tr>\n",
       "      <th>21</th>\n",
       "      <td>0.181818</td>\n",
       "      <td>0.00</td>\n",
       "      <td>0.000000</td>\n",
       "      <td>1.000000</td>\n",
       "      <td>3</td>\n",
       "    </tr>\n",
       "    <tr>\n",
       "      <th>22</th>\n",
       "      <td>0.181818</td>\n",
       "      <td>0.25</td>\n",
       "      <td>0.000000</td>\n",
       "      <td>0.060019</td>\n",
       "      <td>1</td>\n",
       "    </tr>\n",
       "    <tr>\n",
       "      <th>23</th>\n",
       "      <td>0.181818</td>\n",
       "      <td>0.50</td>\n",
       "      <td>0.333333</td>\n",
       "      <td>0.031541</td>\n",
       "      <td>1</td>\n",
       "    </tr>\n",
       "    <tr>\n",
       "      <th>24</th>\n",
       "      <td>0.272727</td>\n",
       "      <td>0.00</td>\n",
       "      <td>0.000000</td>\n",
       "      <td>0.802692</td>\n",
       "      <td>3</td>\n",
       "    </tr>\n",
       "    <tr>\n",
       "      <th>25</th>\n",
       "      <td>0.272727</td>\n",
       "      <td>0.25</td>\n",
       "      <td>0.000000</td>\n",
       "      <td>0.054687</td>\n",
       "      <td>1</td>\n",
       "    </tr>\n",
       "    <tr>\n",
       "      <th>26</th>\n",
       "      <td>0.272727</td>\n",
       "      <td>0.50</td>\n",
       "      <td>0.333333</td>\n",
       "      <td>0.030355</td>\n",
       "      <td>1</td>\n",
       "    </tr>\n",
       "    <tr>\n",
       "      <th>27</th>\n",
       "      <td>0.363636</td>\n",
       "      <td>0.00</td>\n",
       "      <td>0.000000</td>\n",
       "      <td>0.742357</td>\n",
       "      <td>3</td>\n",
       "    </tr>\n",
       "    <tr>\n",
       "      <th>28</th>\n",
       "      <td>0.363636</td>\n",
       "      <td>0.25</td>\n",
       "      <td>0.000000</td>\n",
       "      <td>0.051297</td>\n",
       "      <td>1</td>\n",
       "    </tr>\n",
       "    <tr>\n",
       "      <th>29</th>\n",
       "      <td>0.363636</td>\n",
       "      <td>0.50</td>\n",
       "      <td>0.333333</td>\n",
       "      <td>0.017852</td>\n",
       "      <td>1</td>\n",
       "    </tr>\n",
       "    <tr>\n",
       "      <th>30</th>\n",
       "      <td>0.454545</td>\n",
       "      <td>0.00</td>\n",
       "      <td>0.000000</td>\n",
       "      <td>0.746434</td>\n",
       "      <td>3</td>\n",
       "    </tr>\n",
       "    <tr>\n",
       "      <th>31</th>\n",
       "      <td>0.454545</td>\n",
       "      <td>0.25</td>\n",
       "      <td>0.000000</td>\n",
       "      <td>0.067275</td>\n",
       "      <td>1</td>\n",
       "    </tr>\n",
       "    <tr>\n",
       "      <th>32</th>\n",
       "      <td>0.454545</td>\n",
       "      <td>0.50</td>\n",
       "      <td>0.333333</td>\n",
       "      <td>0.017209</td>\n",
       "      <td>1</td>\n",
       "    </tr>\n",
       "    <tr>\n",
       "      <th>33</th>\n",
       "      <td>0.545455</td>\n",
       "      <td>0.00</td>\n",
       "      <td>0.000000</td>\n",
       "      <td>0.830113</td>\n",
       "      <td>3</td>\n",
       "    </tr>\n",
       "    <tr>\n",
       "      <th>34</th>\n",
       "      <td>0.545455</td>\n",
       "      <td>0.25</td>\n",
       "      <td>0.000000</td>\n",
       "      <td>0.065411</td>\n",
       "      <td>1</td>\n",
       "    </tr>\n",
       "    <tr>\n",
       "      <th>35</th>\n",
       "      <td>0.545455</td>\n",
       "      <td>0.50</td>\n",
       "      <td>0.333333</td>\n",
       "      <td>0.019709</td>\n",
       "      <td>1</td>\n",
       "    </tr>\n",
       "    <tr>\n",
       "      <th>36</th>\n",
       "      <td>0.636364</td>\n",
       "      <td>0.00</td>\n",
       "      <td>0.000000</td>\n",
       "      <td>0.730449</td>\n",
       "      <td>3</td>\n",
       "    </tr>\n",
       "    <tr>\n",
       "      <th>37</th>\n",
       "      <td>0.636364</td>\n",
       "      <td>0.25</td>\n",
       "      <td>0.000000</td>\n",
       "      <td>0.055259</td>\n",
       "      <td>1</td>\n",
       "    </tr>\n",
       "    <tr>\n",
       "      <th>38</th>\n",
       "      <td>0.636364</td>\n",
       "      <td>0.50</td>\n",
       "      <td>0.333333</td>\n",
       "      <td>0.019671</td>\n",
       "      <td>1</td>\n",
       "    </tr>\n",
       "    <tr>\n",
       "      <th>39</th>\n",
       "      <td>0.727273</td>\n",
       "      <td>0.00</td>\n",
       "      <td>0.000000</td>\n",
       "      <td>0.514221</td>\n",
       "      <td>3</td>\n",
       "    </tr>\n",
       "    <tr>\n",
       "      <th>40</th>\n",
       "      <td>0.727273</td>\n",
       "      <td>0.25</td>\n",
       "      <td>0.000000</td>\n",
       "      <td>0.033669</td>\n",
       "      <td>1</td>\n",
       "    </tr>\n",
       "    <tr>\n",
       "      <th>41</th>\n",
       "      <td>0.727273</td>\n",
       "      <td>0.50</td>\n",
       "      <td>0.333333</td>\n",
       "      <td>0.017380</td>\n",
       "      <td>1</td>\n",
       "    </tr>\n",
       "    <tr>\n",
       "      <th>42</th>\n",
       "      <td>0.818182</td>\n",
       "      <td>0.00</td>\n",
       "      <td>0.000000</td>\n",
       "      <td>0.597195</td>\n",
       "      <td>3</td>\n",
       "    </tr>\n",
       "    <tr>\n",
       "      <th>43</th>\n",
       "      <td>0.818182</td>\n",
       "      <td>0.25</td>\n",
       "      <td>0.000000</td>\n",
       "      <td>0.042148</td>\n",
       "      <td>1</td>\n",
       "    </tr>\n",
       "    <tr>\n",
       "      <th>44</th>\n",
       "      <td>0.818182</td>\n",
       "      <td>0.50</td>\n",
       "      <td>0.333333</td>\n",
       "      <td>0.023841</td>\n",
       "      <td>1</td>\n",
       "    </tr>\n",
       "    <tr>\n",
       "      <th>45</th>\n",
       "      <td>0.909091</td>\n",
       "      <td>0.00</td>\n",
       "      <td>0.000000</td>\n",
       "      <td>0.713106</td>\n",
       "      <td>3</td>\n",
       "    </tr>\n",
       "    <tr>\n",
       "      <th>46</th>\n",
       "      <td>0.909091</td>\n",
       "      <td>0.25</td>\n",
       "      <td>0.000000</td>\n",
       "      <td>0.050253</td>\n",
       "      <td>1</td>\n",
       "    </tr>\n",
       "    <tr>\n",
       "      <th>47</th>\n",
       "      <td>0.909091</td>\n",
       "      <td>0.50</td>\n",
       "      <td>0.333333</td>\n",
       "      <td>0.028220</td>\n",
       "      <td>1</td>\n",
       "    </tr>\n",
       "    <tr>\n",
       "      <th>48</th>\n",
       "      <td>1.000000</td>\n",
       "      <td>0.00</td>\n",
       "      <td>0.000000</td>\n",
       "      <td>0.945225</td>\n",
       "      <td>3</td>\n",
       "    </tr>\n",
       "    <tr>\n",
       "      <th>49</th>\n",
       "      <td>1.000000</td>\n",
       "      <td>0.25</td>\n",
       "      <td>0.000000</td>\n",
       "      <td>0.084641</td>\n",
       "      <td>1</td>\n",
       "    </tr>\n",
       "  </tbody>\n",
       "</table>\n",
       "</div>"
      ],
      "text/plain": [
       "         MES  TIPO_DE_TRANSPORTE  CATEGORIA     VALOR  Cluster\n",
       "0   0.636364                0.00   0.000000  0.650838        3\n",
       "1   0.636364                0.25   0.000000  0.050623        1\n",
       "2   0.636364                0.50   0.333333  0.017076        1\n",
       "3   0.727273                0.00   0.000000  0.517535        3\n",
       "4   0.727273                0.25   0.000000  0.038433        1\n",
       "5   0.727273                0.50   0.333333  0.014889        1\n",
       "6   0.818182                0.00   0.000000  0.604086        3\n",
       "7   0.818182                0.25   0.000000  0.035503        1\n",
       "8   0.818182                0.50   0.333333  0.020648        1\n",
       "9   0.909091                0.00   0.000000  0.686940        3\n",
       "10  0.909091                0.25   0.000000  0.046863        1\n",
       "11  0.909091                0.50   0.333333  0.023682        1\n",
       "12  1.000000                0.00   0.000000  0.950591        3\n",
       "13  1.000000                0.25   0.000000  0.079029        1\n",
       "14  1.000000                0.50   0.333333  0.029306        1\n",
       "15  0.000000                0.00   0.000000  0.900031        3\n",
       "16  0.000000                0.25   0.000000  0.053433        1\n",
       "17  0.000000                0.50   0.333333  0.031844        1\n",
       "18  0.090909                0.00   0.000000  0.896299        3\n",
       "19  0.090909                0.25   0.000000  0.044532        1\n",
       "20  0.090909                0.50   0.333333  0.026437        1\n",
       "21  0.181818                0.00   0.000000  1.000000        3\n",
       "22  0.181818                0.25   0.000000  0.060019        1\n",
       "23  0.181818                0.50   0.333333  0.031541        1\n",
       "24  0.272727                0.00   0.000000  0.802692        3\n",
       "25  0.272727                0.25   0.000000  0.054687        1\n",
       "26  0.272727                0.50   0.333333  0.030355        1\n",
       "27  0.363636                0.00   0.000000  0.742357        3\n",
       "28  0.363636                0.25   0.000000  0.051297        1\n",
       "29  0.363636                0.50   0.333333  0.017852        1\n",
       "30  0.454545                0.00   0.000000  0.746434        3\n",
       "31  0.454545                0.25   0.000000  0.067275        1\n",
       "32  0.454545                0.50   0.333333  0.017209        1\n",
       "33  0.545455                0.00   0.000000  0.830113        3\n",
       "34  0.545455                0.25   0.000000  0.065411        1\n",
       "35  0.545455                0.50   0.333333  0.019709        1\n",
       "36  0.636364                0.00   0.000000  0.730449        3\n",
       "37  0.636364                0.25   0.000000  0.055259        1\n",
       "38  0.636364                0.50   0.333333  0.019671        1\n",
       "39  0.727273                0.00   0.000000  0.514221        3\n",
       "40  0.727273                0.25   0.000000  0.033669        1\n",
       "41  0.727273                0.50   0.333333  0.017380        1\n",
       "42  0.818182                0.00   0.000000  0.597195        3\n",
       "43  0.818182                0.25   0.000000  0.042148        1\n",
       "44  0.818182                0.50   0.333333  0.023841        1\n",
       "45  0.909091                0.00   0.000000  0.713106        3\n",
       "46  0.909091                0.25   0.000000  0.050253        1\n",
       "47  0.909091                0.50   0.333333  0.028220        1\n",
       "48  1.000000                0.00   0.000000  0.945225        3\n",
       "49  1.000000                0.25   0.000000  0.084641        1"
      ]
     },
     "execution_count": 19,
     "metadata": {},
     "output_type": "execute_result"
    }
   ],
   "source": [
    "dfIn.head(50)"
   ]
  },
  {
   "cell_type": "code",
   "execution_count": 20,
   "metadata": {},
   "outputs": [
    {
     "name": "stdout",
     "output_type": "stream",
     "text": [
      "[0.0, 0.09090909090909091, 0.18181818181818182, 0.2727272727272727, 0.36363636363636365, 0.45454545454545453, 0.5454545454545454, 0.6363636363636364, 0.7272727272727273, 0.8181818181818182, 0.9090909090909091, 1.0]\n"
     ]
    }
   ],
   "source": [
    "newMonth = list(np.sort(dfIn.MES.unique()))\n",
    "print(newMonth)\n",
    "dfIn.MES = dfIn.MES.apply(lambda x: newMonth.index(x)+1)\n",
    "dfInC0 = dfIn.loc[dfIn[\"Cluster\"] == 0]\n",
    "dfInC1 = dfIn.loc[dfIn[\"Cluster\"] == 1]\n",
    "dfInC2 = dfIn.loc[dfIn[\"Cluster\"] == 2]\n",
    "dfInC3 = dfIn.loc[dfIn[\"Cluster\"] == 3]"
   ]
  },
  {
   "cell_type": "markdown",
   "metadata": {},
   "source": [
    "### Graficas por cluster\n",
    "\n",
    "- Nos servirá para poder ver las características unicas de cada cluster"
   ]
  },
  {
   "cell_type": "code",
   "execution_count": null,
   "metadata": {},
   "outputs": [],
   "source": [
    "sea.set()"
   ]
  },
  {
   "cell_type": "markdown",
   "metadata": {},
   "source": [
    "### Cluster 0"
   ]
  },
  {
   "cell_type": "code",
   "execution_count": 24,
   "metadata": {},
   "outputs": [
    {
     "data": {
      "image/png": "[encoded data removed]",
      "text/plain": [
       "<Figure size 432x288 with 1 Axes>"
      ]
     },
     "metadata": {},
     "output_type": "display_data"
    },
    {
     "data": {
      "image/png": "[encoded data removed]",
      "text/plain": [
       "<Figure size 432x288 with 1 Axes>"
      ]
     },
     "metadata": {},
     "output_type": "display_data"
    },
    {
     "data": {
      "image/png": "[encoded data removed]",
      "text/plain": [
       "<Figure size 432x288 with 1 Axes>"
      ]
     },
     "metadata": {},
     "output_type": "display_data"
    }
   ],
   "source": [
    "sea.barplot(x=\"MES\",y = \"TIPO_DE_TRANSPORTE\", data = dfInC0)\n",
    "plt.show()\n",
    "sea.barplot(x=\"MES\",y = \"CATEGORIA\", data = dfInC0)\n",
    "plt.show()\n",
    "sea.barplot(x=\"MES\",y = \"VALOR\", data = dfInC0)\n",
    "plt.show()"
   ]
  },
  {
   "cell_type": "markdown",
   "metadata": {},
   "source": [
    "### Cluster 1"
   ]
  },
  {
   "cell_type": "code",
   "execution_count": 25,
   "metadata": {},
   "outputs": [
    {
     "data": {
      "image/png": "[encoded data removed]",
      "text/plain": [
       "<Figure size 432x288 with 1 Axes>"
      ]
     },
     "metadata": {},
     "output_type": "display_data"
    },
    {
     "data": {
      "image/png": "[encoded data removed]",
      "text/plain": [
       "<Figure size 432x288 with 1 Axes>"
      ]
     },
     "metadata": {},
     "output_type": "display_data"
    },
    {
     "data": {
      "image/png": "[encoded data removed]",
      "text/plain": [
       "<Figure size 432x288 with 1 Axes>"
      ]
     },
     "metadata": {},
     "output_type": "display_data"
    }
   ],
   "source": [
    "sea.barplot(x=\"MES\",y = \"TIPO_DE_TRANSPORTE\", data = dfInC1)\n",
    "plt.show()\n",
    "sea.barplot(x=\"MES\",y = \"CATEGORIA\", data = dfInC1)\n",
    "plt.show()\n",
    "sea.barplot(x=\"MES\",y = \"VALOR\", data = dfInC1)\n",
    "plt.show()"
   ]
  },
  {
   "cell_type": "markdown",
   "metadata": {},
   "source": [
    "### Cluster 2"
   ]
  },
  {
   "cell_type": "code",
   "execution_count": 26,
   "metadata": {},
   "outputs": [
    {
     "data": {
      "image/png": "[encoded data removed]",
      "text/plain": [
       "<Figure size 432x288 with 1 Axes>"
      ]
     },
     "metadata": {},
     "output_type": "display_data"
    },
    {
     "data": {
      "image/png": "[encoded data removed]",
      "text/plain": [
       "<Figure size 432x288 with 1 Axes>"
      ]
     },
     "metadata": {},
     "output_type": "display_data"
    },
    {
     "data": {
      "image/png": "[encoded data removed]",
      "text/plain": [
       "<Figure size 432x288 with 1 Axes>"
      ]
     },
     "metadata": {},
     "output_type": "display_data"
    }
   ],
   "source": [
    "sea.barplot(x=\"MES\",y = \"TIPO_DE_TRANSPORTE\", data = dfInC2)\n",
    "plt.show()\n",
    "sea.barplot(x=\"MES\",y = \"CATEGORIA\", data = dfInC2)\n",
    "plt.show()\n",
    "sea.barplot(x=\"MES\",y = \"VALOR\", data = dfInC2)\n",
    "plt.show()"
   ]
  },
  {
   "cell_type": "markdown",
   "metadata": {},
   "source": [
    "### Cluster 3"
   ]
  },
  {
   "cell_type": "code",
   "execution_count": 27,
   "metadata": {},
   "outputs": [
    {
     "data": {
      "image/png": "[encoded data removed]",
      "text/plain": [
       "<Figure size 432x288 with 1 Axes>"
      ]
     },
     "metadata": {},
     "output_type": "display_data"
    },
    {
     "data": {
      "image/png": "[encoded data removed]",
      "text/plain": [
       "<Figure size 432x288 with 1 Axes>"
      ]
     },
     "metadata": {},
     "output_type": "display_data"
    },
    {
     "data": {
      "image/png": "[encoded data removed]",
      "text/plain": [
       "<Figure size 432x288 with 1 Axes>"
      ]
     },
     "metadata": {},
     "output_type": "display_data"
    }
   ],
   "source": [
    "sea.barplot(x=\"MES\",y = \"TIPO_DE_TRANSPORTE\", data = dfInC3)\n",
    "plt.show()\n",
    "sea.barplot(x=\"MES\",y = \"CATEGORIA\", data = dfInC3)\n",
    "plt.show()\n",
    "sea.barplot(x=\"MES\",y = \"VALOR\", data = dfInC3)\n",
    "plt.show()"
   ]
  },
  {
   "cell_type": "code",
   "execution_count": 20,
   "metadata": {},
   "outputs": [
    {
     "data": {
      "image/png": "[encoded data removed]",
      "text/plain": [
       "<Figure size 432x288 with 3 Axes>"
      ]
     },
     "metadata": {
      "needs_background": "light"
     },
     "output_type": "display_data"
    }
   ],
   "source": [
    "fig,ax = plt.subplots()\n",
    "\n",
    "sea.scatterplot(data = dfInMM, x = \"MES\", y = \"VALOR\", ax=ax)\n",
    "\n",
    "\n",
    "ax2 = ax.twinx()\n",
    "sea.scatterplot(data = dfInMM, x = \"MES\", y = \"TIPO_DE_TRANSPORTE\", ax = ax2, color = \"r\")\n",
    "\n",
    "ax3 = ax.twinx()\n",
    "sea.scatterplot(data = dfInMM, x = \"MES\", y = \"CATEGORIA\", ax = ax3, color = \"b\")\n",
    "\n",
    "plt.show()"
   ]
  },
  {
   "cell_type": "code",
   "execution_count": 21,
   "metadata": {},
   "outputs": [
    {
     "data": {
      "image/png": "[encoded data removed]",
      "text/plain": [
       "<Figure size 259.5x216 with 1 Axes>"
      ]
     },
     "metadata": {
      "needs_background": "light"
     },
     "output_type": "display_data"
    }
   ],
   "source": [
    "#Grafica de los valores por MES, respecto al gasto monetario\n",
    "a = sea.FacetGrid(dfIn, hue = 'Cluster')\n",
    "a = a.map(plt.scatter, 'MES', \"VALOR\")\n",
    "a = a.add_legend()\n",
    "\n"
   ]
  },
  {
   "cell_type": "code",
   "execution_count": null,
   "metadata": {},
   "outputs": [],
   "source": [
    "#hacer graficas por cluster de cada cosa es decir para sumarizar sus caracteristicas"
   ]
  }
 ],
 "metadata": {
  "kernelspec": {
   "display_name": "Python 3",
   "language": "python",
   "name": "python3"
  },
  "language_info": {
   "codemirror_mode": {
    "name": "ipython",
    "version": 3
   },
   "file_extension": ".py",
   "mimetype": "text/x-python",
   "name": "python",
   "nbconvert_exporter": "python",
   "pygments_lexer": "ipython3",
   "version": "3.7.3"
  }
 },
 "nbformat": 4,
 "nbformat_minor": 4
}
